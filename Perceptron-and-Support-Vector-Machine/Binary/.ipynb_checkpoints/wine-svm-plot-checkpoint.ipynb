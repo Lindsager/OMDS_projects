{
 "cells": [
  {
   "cell_type": "markdown",
   "metadata": {},
   "source": [
    "Load in the `wine` data set, and create a binary classification problem with just two features (for plotting purposes).\n",
    "\n",
    "This routine assumes that your directory contains the file `wine.data.txt`."
   ]
  },
  {
   "cell_type": "code",
   "execution_count": 1,
   "metadata": {},
   "outputs": [],
   "source": [
    "%matplotlib inline\n",
    "import numpy as np\n",
    "import matplotlib.pyplot as plt\n",
    "#\n",
    "# Load in wine data: 178 instances, 3 classes\n",
    "#\n",
    "data = np.loadtxt('wine.data.txt', delimiter=',')\n",
    "ax = data[0:178,1:14]\n",
    "ay = data[0:178,0]\n",
    "#\n",
    "# Now get indices of classes 1 and 2: total of 130 instances\n",
    "# Let x,y be the data and labels for just those instances\n",
    "#\n",
    "I1 = (ay == 1)\n",
    "I2 = (ay == 2)\n",
    "I = I1 + I2\n",
    "x = ax[I,:]\n",
    "y = ay[I]\n",
    "#\n",
    "# Use just two features:\n",
    "# Alcohol level (feature 0) and hue (feature 10)\n",
    "#\n",
    "features = (0,10)\n",
    "x = x[:,features]"
   ]
  },
  {
   "cell_type": "markdown",
   "metadata": {},
   "source": [
    "Now plot the points to see what they look like."
   ]
  },
  {
   "cell_type": "code",
   "execution_count": 2,
   "metadata": {},
   "outputs": [
    {
     "data": {
      "image/png": "[encoded data removed]",
      "text/plain": [
       "<Figure size 432x288 with 1 Axes>"
      ]
     },
     "metadata": {
      "needs_background": "light"
     },
     "output_type": "display_data"
    }
   ],
   "source": [
    "x_min, x_max = 11.0, 15.0\n",
    "y_min, y_max = 0.6, 1.5\n",
    "plt.plot(x[(y==1),0], x[(y==1),1], 'ro')\n",
    "plt.plot(x[(y==2),0], x[(y==2),1], 'k^')\n",
    "plt.xlabel('Alcohol level', fontsize=14, color='red')\n",
    "plt.ylabel('Hue', fontsize=14, color='red')\n",
    "\n",
    "plt.xlim(x_min, x_max)\n",
    "plt.ylim(y_min, y_max)\n",
    "plt.yticks([0.6,0.7,0.8,0.9,1.0,1.1,1.2,1.3,1.4,1.5])\n",
    "plt.show()"
   ]
  },
  {
   "cell_type": "markdown",
   "metadata": {},
   "source": [
    "Next, let's train a linear SVM. We'll just use default parameters."
   ]
  },
  {
   "cell_type": "code",
   "execution_count": 3,
   "metadata": {},
   "outputs": [
    {
     "data": {
      "text/plain": [
       "SVC(kernel='linear')"
      ]
     },
     "execution_count": 3,
     "metadata": {},
     "output_type": "execute_result"
    }
   ],
   "source": [
    "from sklearn.svm import SVC\n",
    "\n",
    "clf = SVC(kernel='linear')\n",
    "clf.fit(x,y)"
   ]
  },
  {
   "cell_type": "markdown",
   "metadata": {},
   "source": [
    "Identify the support vectors so that they can be highlighted in the subsequent plot.\n"
   ]
  },
  {
   "cell_type": "code",
   "execution_count": 4,
   "metadata": {},
   "outputs": [],
   "source": [
    "sv = np.zeros(130,dtype=bool)\n",
    "sv[clf.support_] = True\n",
    "notsv = np.logical_not(sv)"
   ]
  },
  {
   "cell_type": "markdown",
   "metadata": {},
   "source": [
    "Now let's plot the decision boundary, along with the data points, drawing the support vectors slightly larger than the other points."
   ]
  },
  {
   "cell_type": "code",
   "execution_count": 5,
   "metadata": {},
   "outputs": [
    {
     "data": {
      "image/png": "[encoded data removed]",
      "text/plain": [
       "<Figure size 432x288 with 1 Axes>"
      ]
     },
     "metadata": {
      "needs_background": "light"
     },
     "output_type": "display_data"
    }
   ],
   "source": [
    "delta = 0.005\n",
    "x_min, x_max = 11.0, 15.0\n",
    "y_min, y_max = 0.6, 1.5\n",
    "xx, yy = np.meshgrid(np.arange(x_min, x_max, delta), np.arange(y_min, y_max, delta))\n",
    "Z = clf.decision_function(np.c_[xx.ravel(), yy.ravel()])\n",
    "for i in range(len(Z)):\n",
    "    Z[i] = min(Z[i],1.0)\n",
    "    Z[i] = max(Z[i],-1.0)\n",
    "    if (Z[i] > 0.0) and (Z[i] < 1.0):\n",
    "        Z[i] = 0.5\n",
    "    if (Z[i] < 0.0) and (Z[i] > -1.0):\n",
    "        Z[i] = -0.5\n",
    "# Put the result into a color plot\n",
    "Z = Z.reshape(xx.shape)\n",
    "plt.pcolormesh(xx, yy, Z, cmap=plt.cm.PRGn, vmin=-2, vmax=2)\n",
    "\n",
    "# Plot also the training points\n",
    "plt.plot(x[(y==1)*notsv,0], x[(y==1)*notsv,1], 'ro')\n",
    "plt.plot(x[(y==1)*sv,0], x[(y==1)*sv,1], 'ro', markersize=10)\n",
    "plt.plot(x[(y==2)*notsv,0], x[(y==2)*notsv,1], 'k^')\n",
    "plt.plot(x[(y==2)*sv,0], x[(y==2)*sv,1], 'k^', markersize=10)\n",
    "plt.xlabel('Alcohol level', fontsize=14, color='red')\n",
    "plt.ylabel('Hue', fontsize=14, color='red')\n",
    "\n",
    "plt.xlim(x_min, x_max)\n",
    "plt.ylim(y_min, y_max)\n",
    "plt.yticks([0.6,0.7,0.8,0.9,1.0,1.1,1.2,1.3,1.4,1.5])\n",
    "plt.show()"
   ]
  },
  {
   "cell_type": "code",
   "execution_count": null,
   "metadata": {},
   "outputs": [],
   "source": []
  },
  {
   "cell_type": "code",
   "execution_count": null,
   "metadata": {},
   "outputs": [],
   "source": []
  },
  {
   "cell_type": "code",
   "execution_count": null,
   "metadata": {},
   "outputs": [],
   "source": []
  },
  {
   "cell_type": "code",
   "execution_count": null,
   "metadata": {},
   "outputs": [],
   "source": []
  }
 ],
 "metadata": {
  "kernelspec": {
   "display_name": "Python 3 (ipykernel)",
   "language": "python",
   "name": "python3"
  },
  "language_info": {
   "codemirror_mode": {
    "name": "ipython",
    "version": 3
   },
   "file_extension": ".py",
   "mimetype": "text/x-python",
   "name": "python",
   "nbconvert_exporter": "python",
   "pygments_lexer": "ipython3",
   "version": "3.9.12"
  }
 },
 "nbformat": 4,
 "nbformat_minor": 2
}
