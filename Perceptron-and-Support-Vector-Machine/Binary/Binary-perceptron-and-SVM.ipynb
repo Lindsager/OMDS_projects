{
 "cells": [
  {
   "cell_type": "code",
   "execution_count": 1,
   "id": "06fd924b",
   "metadata": {},
   "outputs": [],
   "source": [
    "import pandas as pd\n",
    "import numpy as np"
   ]
  },
  {
   "cell_type": "markdown",
   "id": "35b27bfa",
   "metadata": {},
   "source": [
    "## Question 1 - Binary Perceptron"
   ]
  },
  {
   "cell_type": "markdown",
   "id": "4bacc3c2",
   "metadata": {},
   "source": [
    "### part a - functions for classification"
   ]
  },
  {
   "cell_type": "code",
   "execution_count": 2,
   "id": "79d25a6d",
   "metadata": {},
   "outputs": [],
   "source": [
    "def classify(w,b,x):\n",
    "    dot_prod = sum([w[i]*x[i] for i in range(len[x])])\n",
    "    label = 1 if dot_product + b >= 0 else -1\n",
    "    return label"
   ]
  },
  {
   "cell_type": "code",
   "execution_count": 3,
   "id": "a023f780",
   "metadata": {},
   "outputs": [],
   "source": [
    "def perceptron(data,labels):\n",
    "    perm = np.random.permutation(len(labels))\n",
    "    x = data[perm]\n",
    "    y = labels[perm]\n",
    "    \n",
    "    w = np.zeros(x.shape[1])\n",
    "    b = 0\n",
    "    \n",
    "    for i in range(x.shape[0]):\n",
    "        if y[i] *(np.dot(w,x[i]) + b) <= 0:\n",
    "            w = w + y[i]*x[i]\n",
    "            b = b + y[i]\n",
    "            \n",
    "    return w,b"
   ]
  },
  {
   "cell_type": "markdown",
   "id": "6cc49618",
   "metadata": {},
   "source": [
    "### part b - loading and recoding the iris dataset"
   ]
  },
  {
   "cell_type": "markdown",
   "id": "5eb2c171",
   "metadata": {},
   "source": [
    "#### importing iris dataset"
   ]
  },
  {
   "cell_type": "code",
   "execution_count": 4,
   "id": "293f9672",
   "metadata": {},
   "outputs": [],
   "source": [
    "from sklearn import datasets\n",
    "iris = datasets.load_iris()\n",
    "x = iris.data\n",
    "y = iris.target"
   ]
  },
  {
   "cell_type": "markdown",
   "id": "70b2a8ee",
   "metadata": {},
   "source": [
    "#### select features 1 &3, recode 0 as -1 and drop all instances of 2"
   ]
  },
  {
   "cell_type": "code",
   "execution_count": 5,
   "id": "a3722bff",
   "metadata": {},
   "outputs": [],
   "source": [
    "x_subset = np.column_stack((x[:100,1], x[:100,3]))\n",
    "y_recode = np.where(y == 0, -1, y)\n",
    "y_recode = y_recode[y_recode != 2]"
   ]
  },
  {
   "cell_type": "markdown",
   "id": "73dc3fea",
   "metadata": {},
   "source": [
    "### part c - running the perceptron and plotting the results"
   ]
  },
  {
   "cell_type": "markdown",
   "id": "0e59eb4e",
   "metadata": {},
   "source": [
    "#### running the perceptron"
   ]
  },
  {
   "cell_type": "code",
   "execution_count": 6,
   "id": "d123e82e",
   "metadata": {},
   "outputs": [
    {
     "data": {
      "text/plain": [
       "(array([-2.5,  8.1]), 1)"
      ]
     },
     "execution_count": 6,
     "metadata": {},
     "output_type": "execute_result"
    }
   ],
   "source": [
    "w,b = perceptron(x_subset, y_recode)\n",
    "w,b"
   ]
  },
  {
   "cell_type": "markdown",
   "id": "48fb766a",
   "metadata": {},
   "source": [
    "#### plotting the data and decision boundaries"
   ]
  },
  {
   "cell_type": "code",
   "execution_count": 7,
   "id": "f92ac29a",
   "metadata": {},
   "outputs": [
    {
     "data": {
      "image/png": "[encoded data removed]",
      "text/plain": [
       "<Figure size 432x288 with 1 Axes>"
      ]
     },
     "metadata": {
      "needs_background": "light"
     },
     "output_type": "display_data"
    }
   ],
   "source": [
    "import matplotlib.pyplot as plt\n",
    "%matplotlib inline\n",
    "\n",
    "# Scatter plot the data points\n",
    "plt.scatter(x_subset[y_recode==-1,0], x_subset[y_recode==-1,1], color='b', label='Class -1')\n",
    "plt.scatter(x_subset[y_recode==1,0], x_subset[y_recode==1,1], color='r', label='Class 1')\n",
    "\n",
    "# Plot the decision boundary\n",
    "x_axis = np.linspace(np.min(x_subset[:,0]), np.max(x_subset[:,0]), 100)\n",
    "y_axis = -(b + w[0]*x_axis) / w[1]\n",
    "plt.plot(x_axis, y_axis, color='k', label='Decision Boundary')\n",
    "\n",
    "# Set plot labels and legend\n",
    "plt.xlabel('Feature 1')\n",
    "plt.ylabel('Feature 2')\n",
    "plt.legend()\n",
    "\n",
    "# Show the plot\n",
    "plt.show()"
   ]
  },
  {
   "cell_type": "markdown",
   "id": "2b362108",
   "metadata": {},
   "source": [
    "### part d - update counter"
   ]
  },
  {
   "cell_type": "code",
   "execution_count": 8,
   "id": "ddf76688",
   "metadata": {},
   "outputs": [],
   "source": [
    "def perceptron_updates(data,labels):\n",
    "    iterations = 20\n",
    "    updates = []\n",
    "    \n",
    "    for n in range(iterations):\n",
    "        perm = np.random.permutation(len(labels))\n",
    "        x = data[perm]\n",
    "        y = labels[perm]\n",
    "\n",
    "        w = np.zeros(x.shape[1])\n",
    "        b = 0\n",
    "        counter = 0\n",
    "  \n",
    "        for i in range(x.shape[0]):\n",
    "            if y[i] *(np.dot(w,x[i]) + b) <= 0:\n",
    "                w = w + y[i]*x[i]\n",
    "                b = b + y[i]\n",
    "                counter += 1\n",
    "\n",
    "        updates.append(counter)\n",
    "    \n",
    "    return updates"
   ]
  },
  {
   "cell_type": "code",
   "execution_count": 9,
   "id": "58acff69",
   "metadata": {},
   "outputs": [
    {
     "data": {
      "text/plain": [
       "[22, 2, 19, 2, 17, 13, 11, 2, 2, 19, 4, 6, 11, 6, 17, 13, 18, 4, 17, 4]"
      ]
     },
     "execution_count": 9,
     "metadata": {},
     "output_type": "execute_result"
    }
   ],
   "source": [
    "updates = perceptron_updates(x_subset, y_recode)\n",
    "updates"
   ]
  },
  {
   "cell_type": "code",
   "execution_count": 10,
   "id": "f30471b5",
   "metadata": {},
   "outputs": [
    {
     "data": {
      "text/plain": [
       "[Text(0.5, 0, 'count of updates needed for convergence'),\n",
       " Text(0.5, 1.0, 'Updates Needed for Covergence by Perceptron Algorithm')]"
      ]
     },
     "execution_count": 10,
     "metadata": {},
     "output_type": "execute_result"
    },
    {
     "data": {
      "image/png": "[encoded data removed]",
      "text/plain": [
       "<Figure size 720x360 with 1 Axes>"
      ]
     },
     "metadata": {
      "needs_background": "light"
     },
     "output_type": "display_data"
    }
   ],
   "source": [
    "import seaborn as sns\n",
    "plt.figure(figsize = (10,5))\n",
    "ax = sns.histplot(updates, color='#4c9ca1', bins=10, kde=True)\n",
    "ax.set(xlabel=\"count of updates needed for convergence\", title = \"Updates Needed for Covergence by Perceptron Algorithm\")"
   ]
  },
  {
   "cell_type": "markdown",
   "id": "9ebaf802",
   "metadata": {},
   "source": [
    "## Question 2 - Support Vector Machine"
   ]
  },
  {
   "cell_type": "markdown",
   "id": "8088280b",
   "metadata": {},
   "source": [
    "### (a) Is the data linearly separable?\n",
    "\n",
    "Yes, based on the plot from question 1c the data appears to be linearly separable."
   ]
  },
  {
   "cell_type": "markdown",
   "id": "8be86f25",
   "metadata": {},
   "source": [
    "### (b) support vector machine classifier"
   ]
  },
  {
   "cell_type": "markdown",
   "id": "66ac47d1",
   "metadata": {},
   "source": [
    "#### select features 0,2 from the iris data set and labels 1,2"
   ]
  },
  {
   "cell_type": "code",
   "execution_count": 11,
   "id": "d6b5ead7",
   "metadata": {},
   "outputs": [],
   "source": [
    "x_sub = np.column_stack((x[50:,0], x[50:,2]))\n",
    "y_sub = y[y != 0]"
   ]
  },
  {
   "cell_type": "markdown",
   "id": "87e86f65",
   "metadata": {},
   "source": [
    "#### fit SVM classifier to the data"
   ]
  },
  {
   "cell_type": "code",
   "execution_count": 12,
   "id": "f74dfc8d",
   "metadata": {},
   "outputs": [],
   "source": [
    "from sklearn.svm import SVC\n",
    "from sklearn.model_selection import train_test_split"
   ]
  },
  {
   "cell_type": "code",
   "execution_count": 13,
   "id": "776bd5bf",
   "metadata": {},
   "outputs": [],
   "source": [
    "x_train, x_test, y_train, y_test = train_test_split(x_sub, y_sub, test_size = 0.2, random_state = 0)"
   ]
  },
  {
   "cell_type": "code",
   "execution_count": 14,
   "id": "95715d08",
   "metadata": {},
   "outputs": [],
   "source": [
    "C_values = [0.1, 0.5, 1, 5, 10, 20, 50, 100, 1000, 100000]\n",
    "training_errors= []\n",
    "num_supp_vectors = []\n",
    "\n",
    "for C in C_values:\n",
    "    clf = SVC(kernel='linear', C=C)\n",
    "    clf.fit(x_train, y_train)\n",
    "    training_error = round((1 - clf.score(x_train, y_train)),4)\n",
    "    n_supp_vect = sum(clf.n_support_)\n",
    "    training_errors.append(training_error)\n",
    "    num_supp_vectors.append(n_supp_vect)"
   ]
  },
  {
   "cell_type": "code",
   "execution_count": 15,
   "id": "d47530ce",
   "metadata": {},
   "outputs": [
    {
     "data": {
      "text/html": [
       "<div>\n",
       "<style scoped>\n",
       "    .dataframe tbody tr th:only-of-type {\n",
       "        vertical-align: middle;\n",
       "    }\n",
       "\n",
       "    .dataframe tbody tr th {\n",
       "        vertical-align: top;\n",
       "    }\n",
       "\n",
       "    .dataframe thead th {\n",
       "        text-align: right;\n",
       "    }\n",
       "</style>\n",
       "<table border=\"1\" class=\"dataframe\">\n",
       "  <thead>\n",
       "    <tr style=\"text-align: right;\">\n",
       "      <th></th>\n",
       "      <th>Training Error</th>\n",
       "      <th>Number of Support Vectors</th>\n",
       "    </tr>\n",
       "    <tr>\n",
       "      <th>C</th>\n",
       "      <th></th>\n",
       "      <th></th>\n",
       "    </tr>\n",
       "  </thead>\n",
       "  <tbody>\n",
       "    <tr>\n",
       "      <th>0.1</th>\n",
       "      <td>0.0625</td>\n",
       "      <td>46</td>\n",
       "    </tr>\n",
       "    <tr>\n",
       "      <th>0.5</th>\n",
       "      <td>0.0375</td>\n",
       "      <td>31</td>\n",
       "    </tr>\n",
       "    <tr>\n",
       "      <th>1.0</th>\n",
       "      <td>0.0500</td>\n",
       "      <td>24</td>\n",
       "    </tr>\n",
       "    <tr>\n",
       "      <th>5.0</th>\n",
       "      <td>0.0500</td>\n",
       "      <td>15</td>\n",
       "    </tr>\n",
       "    <tr>\n",
       "      <th>10.0</th>\n",
       "      <td>0.0250</td>\n",
       "      <td>13</td>\n",
       "    </tr>\n",
       "    <tr>\n",
       "      <th>20.0</th>\n",
       "      <td>0.0375</td>\n",
       "      <td>10</td>\n",
       "    </tr>\n",
       "    <tr>\n",
       "      <th>50.0</th>\n",
       "      <td>0.0375</td>\n",
       "      <td>8</td>\n",
       "    </tr>\n",
       "    <tr>\n",
       "      <th>100.0</th>\n",
       "      <td>0.0375</td>\n",
       "      <td>8</td>\n",
       "    </tr>\n",
       "    <tr>\n",
       "      <th>1000.0</th>\n",
       "      <td>0.0375</td>\n",
       "      <td>7</td>\n",
       "    </tr>\n",
       "    <tr>\n",
       "      <th>100000.0</th>\n",
       "      <td>0.0375</td>\n",
       "      <td>6</td>\n",
       "    </tr>\n",
       "  </tbody>\n",
       "</table>\n",
       "</div>"
      ],
      "text/plain": [
       "          Training Error  Number of Support Vectors\n",
       "C                                                  \n",
       "0.1               0.0625                         46\n",
       "0.5               0.0375                         31\n",
       "1.0               0.0500                         24\n",
       "5.0               0.0500                         15\n",
       "10.0              0.0250                         13\n",
       "20.0              0.0375                         10\n",
       "50.0              0.0375                          8\n",
       "100.0             0.0375                          8\n",
       "1000.0            0.0375                          7\n",
       "100000.0          0.0375                          6"
      ]
     },
     "execution_count": 15,
     "metadata": {},
     "output_type": "execute_result"
    }
   ],
   "source": [
    "d = {'C':C_values, 'Training Error':training_errors, 'Number of Support Vectors':num_supp_vectors}\n",
    "df = pd.DataFrame(data=d).set_index('C')\n",
    "df"
   ]
  },
  {
   "cell_type": "markdown",
   "id": "9d9516b0",
   "metadata": {},
   "source": [
    "### (c) best value of C"
   ]
  },
  {
   "cell_type": "code",
   "execution_count": 16,
   "id": "3a283124",
   "metadata": {},
   "outputs": [
    {
     "data": {
      "text/html": [
       "<div>\n",
       "<style scoped>\n",
       "    .dataframe tbody tr th:only-of-type {\n",
       "        vertical-align: middle;\n",
       "    }\n",
       "\n",
       "    .dataframe tbody tr th {\n",
       "        vertical-align: top;\n",
       "    }\n",
       "\n",
       "    .dataframe thead th {\n",
       "        text-align: right;\n",
       "    }\n",
       "</style>\n",
       "<table border=\"1\" class=\"dataframe\">\n",
       "  <thead>\n",
       "    <tr style=\"text-align: right;\">\n",
       "      <th></th>\n",
       "      <th>Training Error</th>\n",
       "      <th>Test Error</th>\n",
       "      <th>Number of Support Vectors</th>\n",
       "    </tr>\n",
       "    <tr>\n",
       "      <th>C</th>\n",
       "      <th></th>\n",
       "      <th></th>\n",
       "      <th></th>\n",
       "    </tr>\n",
       "  </thead>\n",
       "  <tbody>\n",
       "    <tr>\n",
       "      <th>0.1</th>\n",
       "      <td>0.0625</td>\n",
       "      <td>0.1</td>\n",
       "      <td>46</td>\n",
       "    </tr>\n",
       "    <tr>\n",
       "      <th>0.5</th>\n",
       "      <td>0.0375</td>\n",
       "      <td>0.1</td>\n",
       "      <td>31</td>\n",
       "    </tr>\n",
       "    <tr>\n",
       "      <th>1.0</th>\n",
       "      <td>0.0500</td>\n",
       "      <td>0.1</td>\n",
       "      <td>24</td>\n",
       "    </tr>\n",
       "    <tr>\n",
       "      <th>5.0</th>\n",
       "      <td>0.0500</td>\n",
       "      <td>0.1</td>\n",
       "      <td>15</td>\n",
       "    </tr>\n",
       "    <tr>\n",
       "      <th>10.0</th>\n",
       "      <td>0.0250</td>\n",
       "      <td>0.1</td>\n",
       "      <td>13</td>\n",
       "    </tr>\n",
       "    <tr>\n",
       "      <th>20.0</th>\n",
       "      <td>0.0375</td>\n",
       "      <td>0.1</td>\n",
       "      <td>10</td>\n",
       "    </tr>\n",
       "    <tr>\n",
       "      <th>50.0</th>\n",
       "      <td>0.0375</td>\n",
       "      <td>0.1</td>\n",
       "      <td>8</td>\n",
       "    </tr>\n",
       "    <tr>\n",
       "      <th>100.0</th>\n",
       "      <td>0.0375</td>\n",
       "      <td>0.1</td>\n",
       "      <td>8</td>\n",
       "    </tr>\n",
       "    <tr>\n",
       "      <th>1000.0</th>\n",
       "      <td>0.0375</td>\n",
       "      <td>0.1</td>\n",
       "      <td>7</td>\n",
       "    </tr>\n",
       "    <tr>\n",
       "      <th>100000.0</th>\n",
       "      <td>0.0375</td>\n",
       "      <td>0.1</td>\n",
       "      <td>6</td>\n",
       "    </tr>\n",
       "  </tbody>\n",
       "</table>\n",
       "</div>"
      ],
      "text/plain": [
       "          Training Error  Test Error  Number of Support Vectors\n",
       "C                                                              \n",
       "0.1               0.0625         0.1                         46\n",
       "0.5               0.0375         0.1                         31\n",
       "1.0               0.0500         0.1                         24\n",
       "5.0               0.0500         0.1                         15\n",
       "10.0              0.0250         0.1                         13\n",
       "20.0              0.0375         0.1                         10\n",
       "50.0              0.0375         0.1                          8\n",
       "100.0             0.0375         0.1                          8\n",
       "1000.0            0.0375         0.1                          7\n",
       "100000.0          0.0375         0.1                          6"
      ]
     },
     "execution_count": 16,
     "metadata": {},
     "output_type": "execute_result"
    }
   ],
   "source": [
    "y_pred = clf.predict(x_test)\n",
    "test_error = round((1 - clf.score(x_test, y_test)), 4)\n",
    "\n",
    "d2 = {'C':C_values, 'Training Error':training_errors, 'Test Error':test_error, 'Number of Support Vectors':num_supp_vectors}\n",
    "df2 = pd.DataFrame(data=d2).set_index('C')\n",
    "df2"
   ]
  },
  {
   "cell_type": "markdown",
   "id": "9b67f804",
   "metadata": {},
   "source": [
    "#### Based on the table above, the value of C that minimizes training error without compromising test error seems to be 10."
   ]
  },
  {
   "cell_type": "code",
   "execution_count": 17,
   "id": "de118512",
   "metadata": {},
   "outputs": [
    {
     "data": {
      "text/plain": [
       "SVC(C=10, kernel='linear')"
      ]
     },
     "execution_count": 17,
     "metadata": {},
     "output_type": "execute_result"
    }
   ],
   "source": [
    "clf10 = SVC(kernel='linear', C=10)\n",
    "clf10.fit(x_train, y_train)"
   ]
  },
  {
   "cell_type": "code",
   "execution_count": 26,
   "id": "3a6d3f8e",
   "metadata": {},
   "outputs": [
    {
     "data": {
      "image/png": "[encoded data removed]",
      "text/plain": [
       "<Figure size 432x288 with 1 Axes>"
      ]
     },
     "metadata": {
      "needs_background": "light"
     },
     "output_type": "display_data"
    }
   ],
   "source": [
    "sv = np.zeros(80,dtype=bool)\n",
    "sv[clf10.support_] = True\n",
    "notsv = np.logical_not(sv)\n",
    "\n",
    "delta = 0.005\n",
    "x_min, x_max = 4, 8.5\n",
    "y_min, y_max = 2, 8\n",
    "xx, yy = np.meshgrid(np.arange(x_min, x_max, delta), np.arange(y_min, y_max, delta))\n",
    "Z = clf.decision_function(np.c_[xx.ravel(), yy.ravel()])\n",
    "for i in range(len(Z)):\n",
    "    Z[i] = min(Z[i],1.0)\n",
    "    Z[i] = max(Z[i],-1.0)\n",
    "    if (Z[i] > 0.0) and (Z[i] < 1.0):\n",
    "        Z[i] = 0.5\n",
    "    if (Z[i] < 0.0) and (Z[i] > -1.0):\n",
    "        Z[i] = -0.5\n",
    "# Put the result into a color plot\n",
    "Z = Z.reshape(xx.shape)\n",
    "plt.pcolormesh(xx, yy, Z, cmap=plt.cm.PRGn, vmin=-2, vmax=2)\n",
    "\n",
    "# Plot also the training points\n",
    "plt.plot(x_train[(y_train==1)*notsv,0], x_train[(y_train==1)*notsv,1], 'ro')\n",
    "plt.plot(x_train[(y_train==1)*sv,0], x_train[(y_train==1)*sv,1], 'ro', markersize=10)\n",
    "plt.plot(x_train[(y_train==2)*notsv,0], x_train[(y_train==2)*notsv,1], 'k^')\n",
    "plt.plot(x_train[(y_train==2)*sv,0], x_train[(y_train==2)*sv,1], 'k^', markersize=10)\n",
    "plt.xlabel('Sepal Length', fontsize=14, color='red')\n",
    "plt.ylabel('Petal Length', fontsize=14, color='red')\n",
    "\n",
    "plt.xlim(x_min, x_max)\n",
    "plt.ylim(y_min, y_max)\n",
    "plt.show()"
   ]
  },
  {
   "cell_type": "code",
   "execution_count": null,
   "id": "7bffe8a8",
   "metadata": {},
   "outputs": [],
   "source": []
  }
 ],
 "metadata": {
  "kernelspec": {
   "display_name": "Python 3 (ipykernel)",
   "language": "python",
   "name": "python3"
  },
  "language_info": {
   "codemirror_mode": {
    "name": "ipython",
    "version": 3
   },
   "file_extension": ".py",
   "mimetype": "text/x-python",
   "name": "python",
   "nbconvert_exporter": "python",
   "pygments_lexer": "ipython3",
   "version": "3.9.12"
  }
 },
 "nbformat": 4,
 "nbformat_minor": 5
}
