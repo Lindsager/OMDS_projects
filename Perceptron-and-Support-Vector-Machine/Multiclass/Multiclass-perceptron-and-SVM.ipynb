{
 "cells": [
  {
   "cell_type": "code",
   "execution_count": 1,
   "id": "cb541129",
   "metadata": {},
   "outputs": [],
   "source": [
    "import pandas as pd \n",
    "%matplotlib inline\n",
    "import string\n",
    "import numpy as np\n",
    "import matplotlib\n",
    "import matplotlib.pyplot as plt\n",
    "matplotlib.rc('xtick', labelsize=14) \n",
    "matplotlib.rc('ytick', labelsize=14)\n",
    "\n",
    "from sklearn.feature_extraction.text import CountVectorizer"
   ]
  },
  {
   "cell_type": "markdown",
   "id": "f1c09e95",
   "metadata": {},
   "source": [
    "# (1) MultiClass Perceptron"
   ]
  },
  {
   "cell_type": "markdown",
   "id": "46aeacdf",
   "metadata": {},
   "source": [
    "### (a) load in the data set data0.txt"
   ]
  },
  {
   "cell_type": "code",
   "execution_count": 23,
   "id": "22a5b220",
   "metadata": {},
   "outputs": [],
   "source": [
    "data = np.loadtxt('data0.txt')\n",
    "n, d = data.shape\n",
    "# Create training set x and labels y\n",
    "x_data = data[:, 0:d-1]\n",
    "y_data = data[:, d-1]"
   ]
  },
  {
   "cell_type": "markdown",
   "id": "310d77e9",
   "metadata": {},
   "source": [
    "### (b) run the multiclass perceptron"
   ]
  },
  {
   "cell_type": "code",
   "execution_count": 24,
   "id": "b2350814",
   "metadata": {},
   "outputs": [],
   "source": [
    "import numpy as np\n",
    "import matplotlib.pyplot as plt\n",
    "\n",
    "def evaluate_classifier(W, b, x):\n",
    "    scores = np.dot(x, W) + b\n",
    "    predicted_class = np.argmax(scores)\n",
    "    return predicted_class"
   ]
  },
  {
   "cell_type": "code",
   "execution_count": 25,
   "id": "e051175e",
   "metadata": {},
   "outputs": [],
   "source": [
    "def train_perceptron(x, y, k, n_iters=100):\n",
    "    n, d = x.shape\n",
    "    W = np.zeros((d, k))\n",
    "    b = np.zeros((k,))\n",
    "    done = False\n",
    "    converged = True\n",
    "    iters = 0\n",
    "    np.random.seed(None)\n",
    "    while not(done):\n",
    "        done = True\n",
    "        I = np.random.permutation(n)\n",
    "        for i in range(n):\n",
    "            j = I[i]\n",
    "            predicted_class = evaluate_classifier(W, b, x[j])\n",
    "            if predicted_class != y[j]:\n",
    "                W[:, predicted_class] -= x[j]\n",
    "                b[predicted_class] -= 1\n",
    "                W[:, y[j]] += x[j]\n",
    "                b[y[j]] += 1\n",
    "                done = False\n",
    "        iters += 1\n",
    "        if iters > n_iters:\n",
    "            done = True\n",
    "            converged = False\n",
    "    if converged:\n",
    "        print(\"Perceptron algorithm: iterations until convergence:\", iters)\n",
    "    else:\n",
    "        print(\"Perceptron algorithm: did not converge within the specified number of iterations\")\n",
    "    return W, b, converged"
   ]
  },
  {
   "cell_type": "code",
   "execution_count": 26,
   "id": "a6853b2a",
   "metadata": {},
   "outputs": [],
   "source": [
    "def run_perceptron(datafile):\n",
    "    data = np.loadtxt(datafile)\n",
    "    n, d = data.shape\n",
    "    # Create training set x and labels y\n",
    "    x = data[:, 0:d-1]\n",
    "    y = data[:, d-1].astype(int)\n",
    "    k = len(np.unique(y))\n",
    "    # Run the Perceptron algorithm for at most 100 iterations\n",
    "    W, b, converged = train_perceptron(x, y, k, n_iters=100)\n",
    "    # Determine the x1- and x2- limits of the plot\n",
    "    x1min, x1max = np.min(x[:, 0]), np.max(x[:, 0])\n",
    "    x2min, x2max = np.min(x[:, 1]), np.max(x[:, 1])\n",
    "    x1_range, x2_range = np.meshgrid(np.linspace(x1min-1, x1max+1, num=1000), np.linspace(x2min-1, x2max+1, num=1000))\n",
    "    grid = np.c_[x1_range.ravel(), x2_range.ravel()]\n",
    "    Z = np.array([evaluate_classifier(W, b, pt) for pt in grid])\n",
    "    Z = Z.reshape(x1_range.shape)\n",
    "    # Plot the data points\n",
    "    markers = ['o', 's', '^', 'D']\n",
    "    colors = [\"red\", \"green\", \"orange\", \"purple\"]\n",
    "    \n",
    "    for i in range(k):\n",
    "        plt.scatter(x[y==i, 0], x[y==i, 1], cmap=plt.cm.Set1, edgecolor='k', c=colors[i], marker=markers[i], s=40)\n",
    "    \n",
    "   \n",
    "    # Plot the decision boundary\n",
    "    plt.contourf(x1_range, x2_range, Z, alpha=0.4, cmap=plt.cm.Set1)\n",
    "    plt.xlim(x1min-0.5, x1max+0.5)\n",
    "    plt.ylim(x2min-0.5, x2max+0.5)\n",
    "    plt.show()"
   ]
  },
  {
   "cell_type": "code",
   "execution_count": null,
   "id": "e99604e1",
   "metadata": {},
   "outputs": [],
   "source": [
    "def evaluate_classifier(W, b, x):\n",
    "    scores = np.dot(x, W) + b\n",
    "    predicted_class = np.argmax(scores)\n",
    "    return predicted_class\n",
    "def train_perceptron(x, y, k, n_iters=100):\n",
    "    n, d = x.shape\n",
    "    W = np.zeros((d, k))\n",
    "    b = np.zeros((k,))\n",
    "    done = False\n",
    "    converged = True\n",
    "    iters = 0\n",
    "    np.random.seed(None)\n",
    "    while not(done):\n",
    "        done = True\n",
    "        I = np.random.permutation(n)\n",
    "        for i in range(n):\n",
    "            j = I[i]\n",
    "            predicted_class = evaluate_classifier(W, b, x[j])\n",
    "            if predicted_class != y[j]:\n",
    "                W[:, predicted_class] -= x[j]\n",
    "                b[predicted_class] -= 1\n",
    "                W[:, y[j]] += x[j]\n",
    "                b[y[j]] += 1\n",
    "                done = False\n",
    "        iters += 1\n",
    "        if iters > n_iters:\n",
    "            done = True\n",
    "            converged = False\n",
    "    if converged:\n",
    "        print(\"Perceptron algorithm: iterations until convergence:\", iters)\n",
    "    else:\n",
    "        print(\"Perceptron algorithm: did not converge within the specified number of iterations\")\n",
    "    return W, b, converged\n",
    "def run_perceptron(datafile):\n",
    "    data = np.loadtxt(datafile)\n",
    "    n, d = data.shape\n",
    "    # Create training set x and labels y\n",
    "    x = data[:, 0:d-1]\n",
    "    y = data[:, d-1].astype(int)\n",
    "    k = len(np.unique(y))\n",
    "    # Run the Perceptron algorithm for at most 100 iterations\n",
    "    W, b, converged = train_perceptron(x, y, k, n_iters=100)\n",
    "    # Determine the x1- and x2- limits of the plot\n",
    "    x1min, x1max = np.min(x[:, 0]), np.max(x[:, 0])\n",
    "    x2min, x2max = np.min(x[:, 1]), np.max(x[:, 1])\n",
    "    x1_range, x2_range = np.meshgrid(np.linspace(x1min-1, x1max+1, num=1000), np.linspace(x2min-1, x2max+1, num=1000))\n",
    "    grid = np.c_[x1_range.ravel(), x2_range.ravel()]\n",
    "    Z = np.array([evaluate_classifier(W, b, pt) for pt in grid])\n",
    "    Z = Z.reshape(x1_range.shape)\n",
    "    # Plot the data points\n",
    "    markers = ['o', 's', '^', 'D']\n",
    "    colors = [\"red\", \"green\", \"orange\", \"purple\"]\n",
    "    \n",
    "    for i in range(k):\n",
    "        plt.scatter(x[y==i, 0], x[y==i, 1], cmap=plt.cm.Set1, edgecolor='k', c=colors[i], marker=markers[i], s=40)\n",
    "    \n",
    "   \n",
    "    # Plot the decision boundary\n",
    "    plt.contourf(x1_range, x2_range, Z, alpha=0.4, cmap=plt.cm.Set1)\n",
    "    plt.xlim(x1min-0.5, x1max+0.5)\n",
    "    plt.ylim(x2min-0.5, x2max+0.5)\n",
    "    plt.show()"
   ]
  },
  {
   "cell_type": "code",
   "execution_count": 27,
   "id": "5c136607",
   "metadata": {
    "scrolled": true
   },
   "outputs": [
    {
     "name": "stdout",
     "output_type": "stream",
     "text": [
      "Perceptron algorithm: iterations until convergence: 28\n"
     ]
    },
    {
     "data": {
      "image/png": "[encoded data removed]",
      "text/plain": [
       "<Figure size 432x288 with 1 Axes>"
      ]
     },
     "metadata": {
      "needs_background": "light"
     },
     "output_type": "display_data"
    }
   ],
   "source": [
    "run_perceptron('data0.txt')"
   ]
  },
  {
   "cell_type": "markdown",
   "id": "491088d6",
   "metadata": {},
   "source": [
    "# (2) Multiclass SVM"
   ]
  },
  {
   "cell_type": "markdown",
   "id": "79d7851b",
   "metadata": {},
   "source": [
    "### (a) Load in the MNIST data"
   ]
  },
  {
   "cell_type": "code",
   "execution_count": 6,
   "id": "475ba0f0",
   "metadata": {},
   "outputs": [],
   "source": [
    "%matplotlib inline\n",
    "import matplotlib.pyplot as plt \n",
    "import gzip, os\n",
    "import numpy as np\n",
    "from scipy.stats import multivariate_normal\n",
    "import sys\n",
    "import pandas as pd\n",
    "\n",
    "if sys.version_info[0] == 2:\n",
    "    from urllib import urlretrieve\n",
    "else:\n",
    "    from urllib.request import urlretrieve\n",
    "    \n",
    "from sklearn.svm import SVC\n",
    "from sklearn.svm import LinearSVC\n",
    "from sklearn.metrics import accuracy_score\n",
    "from sklearn.model_selection import cross_val_score"
   ]
  },
  {
   "cell_type": "code",
   "execution_count": 7,
   "id": "d67aaf94",
   "metadata": {},
   "outputs": [],
   "source": [
    "# Function that downloads a specified MNIST data file from Yann Le Cun's website\n",
    "def download(filename, source='http://yann.lecun.com/exdb/mnist/'):\n",
    "    print(\"Downloading %s\" % filename)\n",
    "    urlretrieve(source + filename, filename)\n",
    "\n",
    "# Invokes download() if necessary, then reads in images\n",
    "def load_mnist_images(filename):\n",
    "    if not os.path.exists(filename):\n",
    "        download(filename)\n",
    "    with gzip.open(filename, 'rb') as f:\n",
    "        data = np.frombuffer(f.read(), np.uint8, offset=16)\n",
    "    data = data.reshape(-1,784)\n",
    "    return data\n",
    "\n",
    "def load_mnist_labels(filename):\n",
    "    if not os.path.exists(filename):\n",
    "        download(filename)\n",
    "    with gzip.open(filename, 'rb') as f:\n",
    "        data = np.frombuffer(f.read(), np.uint8, offset=8)\n",
    "    return data\n",
    "## Load the training set\n",
    "train_data = load_mnist_images('train-images-idx3-ubyte.gz')\n",
    "train_labels = load_mnist_labels('train-labels-idx1-ubyte.gz')\n",
    "\n",
    "## Load the testing set\n",
    "test_data = load_mnist_images('t10k-images-idx3-ubyte.gz')\n",
    "test_labels = load_mnist_labels('t10k-labels-idx1-ubyte.gz')"
   ]
  },
  {
   "cell_type": "markdown",
   "id": "7c6b5a1f",
   "metadata": {},
   "source": [
    "### (b) SVM classifier"
   ]
  },
  {
   "cell_type": "code",
   "execution_count": 8,
   "id": "7fe255a7",
   "metadata": {},
   "outputs": [],
   "source": [
    "def fit_classifier(C_value=1.0):\n",
    "    clf = LinearSVC(loss='hinge', C=C_value, max_iter=10)\n",
    "    clf.fit(train_data, train_labels)\n",
    "    \n",
    "    train_pred = clf.predict(train_data)\n",
    "    train_error = float(np.sum((train_pred > 0.0) != (train_labels > 0.0)))/len(train_labels)\n",
    "    \n",
    "    test_pred = clf.predict(test_data)\n",
    "    test_error = float(np.sum((test_pred > 0.0) != (test_labels > 0.0)))/len(test_labels)\n",
    "    \n",
    "    return train_error, test_error"
   ]
  },
  {
   "cell_type": "markdown",
   "id": "b4ef5fc3",
   "metadata": {},
   "source": [
    "#### Strategy for choosing optimal C value\n",
    "    - Test large range of potential c values, return training and test error values\n",
    "    - Test smaller range of potential c values around optimal c value from previous step, use 5-fold cross validation to \n",
    "      determine lowest cv error and test error\n",
    "    - use argmin(error) to return the c value with the lowest cv and test error rates."
   ]
  },
  {
   "cell_type": "code",
   "execution_count": 9,
   "id": "485d32e9",
   "metadata": {},
   "outputs": [
    {
     "name": "stderr",
     "output_type": "stream",
     "text": [
      "C:\\Users\\Linds\\anaconda3\\lib\\site-packages\\sklearn\\svm\\_base.py:1206: ConvergenceWarning: Liblinear failed to converge, increase the number of iterations.\n",
      "  warnings.warn(\n",
      "C:\\Users\\Linds\\anaconda3\\lib\\site-packages\\sklearn\\svm\\_base.py:1206: ConvergenceWarning: Liblinear failed to converge, increase the number of iterations.\n",
      "  warnings.warn(\n",
      "C:\\Users\\Linds\\anaconda3\\lib\\site-packages\\sklearn\\svm\\_base.py:1206: ConvergenceWarning: Liblinear failed to converge, increase the number of iterations.\n",
      "  warnings.warn(\n",
      "C:\\Users\\Linds\\anaconda3\\lib\\site-packages\\sklearn\\svm\\_base.py:1206: ConvergenceWarning: Liblinear failed to converge, increase the number of iterations.\n",
      "  warnings.warn(\n",
      "C:\\Users\\Linds\\anaconda3\\lib\\site-packages\\sklearn\\svm\\_base.py:1206: ConvergenceWarning: Liblinear failed to converge, increase the number of iterations.\n",
      "  warnings.warn(\n",
      "C:\\Users\\Linds\\anaconda3\\lib\\site-packages\\sklearn\\svm\\_base.py:1206: ConvergenceWarning: Liblinear failed to converge, increase the number of iterations.\n",
      "  warnings.warn(\n",
      "C:\\Users\\Linds\\anaconda3\\lib\\site-packages\\sklearn\\svm\\_base.py:1206: ConvergenceWarning: Liblinear failed to converge, increase the number of iterations.\n",
      "  warnings.warn(\n",
      "C:\\Users\\Linds\\anaconda3\\lib\\site-packages\\sklearn\\svm\\_base.py:1206: ConvergenceWarning: Liblinear failed to converge, increase the number of iterations.\n",
      "  warnings.warn(\n"
     ]
    }
   ],
   "source": [
    "C_values = [1e-10, 1e-8, 1e-6, 1e-4, 1e-2, 1, 1e2, 1e4]\n",
    "train_errors = []\n",
    "test_errors = []\n",
    "\n",
    "for c in C_values:\n",
    "    train_error, test_error = fit_classifier(c)\n",
    "    train_errors.append(train_error)\n",
    "    test_errors.append(test_error)"
   ]
  },
  {
   "cell_type": "code",
   "execution_count": 10,
   "id": "11818916",
   "metadata": {
    "scrolled": true
   },
   "outputs": [
    {
     "data": {
      "text/html": [
       "<div>\n",
       "<style scoped>\n",
       "    .dataframe tbody tr th:only-of-type {\n",
       "        vertical-align: middle;\n",
       "    }\n",
       "\n",
       "    .dataframe tbody tr th {\n",
       "        vertical-align: top;\n",
       "    }\n",
       "\n",
       "    .dataframe thead th {\n",
       "        text-align: right;\n",
       "    }\n",
       "</style>\n",
       "<table border=\"1\" class=\"dataframe\">\n",
       "  <thead>\n",
       "    <tr style=\"text-align: right;\">\n",
       "      <th></th>\n",
       "      <th>Training Error</th>\n",
       "      <th>Test Error</th>\n",
       "    </tr>\n",
       "    <tr>\n",
       "      <th>C</th>\n",
       "      <th></th>\n",
       "      <th></th>\n",
       "    </tr>\n",
       "  </thead>\n",
       "  <tbody>\n",
       "    <tr>\n",
       "      <th>1.000000e-10</th>\n",
       "      <td>0.061333</td>\n",
       "      <td>0.0607</td>\n",
       "    </tr>\n",
       "    <tr>\n",
       "      <th>1.000000e-08</th>\n",
       "      <td>0.011367</td>\n",
       "      <td>0.0105</td>\n",
       "    </tr>\n",
       "    <tr>\n",
       "      <th>1.000000e-06</th>\n",
       "      <td>0.007133</td>\n",
       "      <td>0.0066</td>\n",
       "    </tr>\n",
       "    <tr>\n",
       "      <th>1.000000e-04</th>\n",
       "      <td>0.023000</td>\n",
       "      <td>0.0231</td>\n",
       "    </tr>\n",
       "    <tr>\n",
       "      <th>1.000000e-02</th>\n",
       "      <td>0.008950</td>\n",
       "      <td>0.0081</td>\n",
       "    </tr>\n",
       "    <tr>\n",
       "      <th>1.000000e+00</th>\n",
       "      <td>0.009883</td>\n",
       "      <td>0.0103</td>\n",
       "    </tr>\n",
       "    <tr>\n",
       "      <th>1.000000e+02</th>\n",
       "      <td>0.012233</td>\n",
       "      <td>0.0124</td>\n",
       "    </tr>\n",
       "    <tr>\n",
       "      <th>1.000000e+04</th>\n",
       "      <td>0.008367</td>\n",
       "      <td>0.0099</td>\n",
       "    </tr>\n",
       "  </tbody>\n",
       "</table>\n",
       "</div>"
      ],
      "text/plain": [
       "              Training Error  Test Error\n",
       "C                                       \n",
       "1.000000e-10        0.061333      0.0607\n",
       "1.000000e-08        0.011367      0.0105\n",
       "1.000000e-06        0.007133      0.0066\n",
       "1.000000e-04        0.023000      0.0231\n",
       "1.000000e-02        0.008950      0.0081\n",
       "1.000000e+00        0.009883      0.0103\n",
       "1.000000e+02        0.012233      0.0124\n",
       "1.000000e+04        0.008367      0.0099"
      ]
     },
     "execution_count": 10,
     "metadata": {},
     "output_type": "execute_result"
    }
   ],
   "source": [
    "d = {'C':C_values,'Training Error':train_errors, 'Test Error':test_errors}\n",
    "df = pd.DataFrame(data=d).set_index('C')\n",
    "df"
   ]
  },
  {
   "cell_type": "code",
   "execution_count": 11,
   "id": "7c3a2d13",
   "metadata": {},
   "outputs": [],
   "source": [
    "def cross_validation_error(x,y,C_value,k):\n",
    "    n = len(y)\n",
    "    ## Randomly shuffle indices\n",
    "    indices = np.random.permutation(n)\n",
    "    \n",
    "    ## Initialize error\n",
    "    err = 0.0\n",
    "    \n",
    "    ## Iterate over partitions\n",
    "    for i in range(k):\n",
    "        ## Partition indices\n",
    "        test_indices = indices[int(i*(n/k)):int((i+1)*(n/k) - 1)]\n",
    "        train_indices = np.setdiff1d(indices, test_indices)\n",
    "        \n",
    "        ## Train classifier with parameter c\n",
    "        clf = LinearSVC(C=C_value, loss='hinge')\n",
    "        clf.fit(x[train_indices], y[train_indices])\n",
    "        \n",
    "        ## Get predictions on test partition\n",
    "        preds = clf.predict(x[test_indices])\n",
    "        \n",
    "        ## Compute error\n",
    "        err += float(np.sum((preds > 0.0) != (y[test_indices] > 0.0)))/len(test_indices)\n",
    "        \n",
    "    return err/k"
   ]
  },
  {
   "cell_type": "code",
   "execution_count": 18,
   "id": "766082e9",
   "metadata": {},
   "outputs": [],
   "source": [
    "def choose_parameter(x,y,k):\n",
    "    ## Iterate over potential values of C\n",
    "    c_vals = [.0000001, .0000005, .000001, .000005, .00001, .00005, .0001]\n",
    "    errs = np.array([cross_validation_error(x, y, c, k) for c in c_vals])\n",
    "    # Plot the cross-validation errors\n",
    "    plt.plot(c_vals, errs, 'ro')\n",
    "    plt.xscale('log')\n",
    "    plt.xlabel('C', fontsize=14)\n",
    "    plt.ylabel('Cross-validation error', fontsize=14)\n",
    "    plt.show()\n",
    "    ## Return best value of C and associated error estimate\n",
    "    return c_vals[np.argmin(errs)], errs[np.argmin(errs)]"
   ]
  },
  {
   "cell_type": "code",
   "execution_count": 37,
   "id": "ab29a24f",
   "metadata": {},
   "outputs": [
    {
     "name": "stderr",
     "output_type": "stream",
     "text": [
      "C:\\Users\\Linds\\anaconda3\\lib\\site-packages\\sklearn\\svm\\_base.py:1206: ConvergenceWarning: Liblinear failed to converge, increase the number of iterations.\n",
      "  warnings.warn(\n",
      "C:\\Users\\Linds\\anaconda3\\lib\\site-packages\\sklearn\\svm\\_base.py:1206: ConvergenceWarning: Liblinear failed to converge, increase the number of iterations.\n",
      "  warnings.warn(\n",
      "C:\\Users\\Linds\\anaconda3\\lib\\site-packages\\sklearn\\svm\\_base.py:1206: ConvergenceWarning: Liblinear failed to converge, increase the number of iterations.\n",
      "  warnings.warn(\n",
      "C:\\Users\\Linds\\anaconda3\\lib\\site-packages\\sklearn\\svm\\_base.py:1206: ConvergenceWarning: Liblinear failed to converge, increase the number of iterations.\n",
      "  warnings.warn(\n",
      "C:\\Users\\Linds\\anaconda3\\lib\\site-packages\\sklearn\\svm\\_base.py:1206: ConvergenceWarning: Liblinear failed to converge, increase the number of iterations.\n",
      "  warnings.warn(\n",
      "C:\\Users\\Linds\\anaconda3\\lib\\site-packages\\sklearn\\svm\\_base.py:1206: ConvergenceWarning: Liblinear failed to converge, increase the number of iterations.\n",
      "  warnings.warn(\n",
      "C:\\Users\\Linds\\anaconda3\\lib\\site-packages\\sklearn\\svm\\_base.py:1206: ConvergenceWarning: Liblinear failed to converge, increase the number of iterations.\n",
      "  warnings.warn(\n",
      "C:\\Users\\Linds\\anaconda3\\lib\\site-packages\\sklearn\\svm\\_base.py:1206: ConvergenceWarning: Liblinear failed to converge, increase the number of iterations.\n",
      "  warnings.warn(\n",
      "C:\\Users\\Linds\\anaconda3\\lib\\site-packages\\sklearn\\svm\\_base.py:1206: ConvergenceWarning: Liblinear failed to converge, increase the number of iterations.\n",
      "  warnings.warn(\n",
      "C:\\Users\\Linds\\anaconda3\\lib\\site-packages\\sklearn\\svm\\_base.py:1206: ConvergenceWarning: Liblinear failed to converge, increase the number of iterations.\n",
      "  warnings.warn(\n",
      "C:\\Users\\Linds\\anaconda3\\lib\\site-packages\\sklearn\\svm\\_base.py:1206: ConvergenceWarning: Liblinear failed to converge, increase the number of iterations.\n",
      "  warnings.warn(\n",
      "C:\\Users\\Linds\\anaconda3\\lib\\site-packages\\sklearn\\svm\\_base.py:1206: ConvergenceWarning: Liblinear failed to converge, increase the number of iterations.\n",
      "  warnings.warn(\n",
      "C:\\Users\\Linds\\anaconda3\\lib\\site-packages\\sklearn\\svm\\_base.py:1206: ConvergenceWarning: Liblinear failed to converge, increase the number of iterations.\n",
      "  warnings.warn(\n",
      "C:\\Users\\Linds\\anaconda3\\lib\\site-packages\\sklearn\\svm\\_base.py:1206: ConvergenceWarning: Liblinear failed to converge, increase the number of iterations.\n",
      "  warnings.warn(\n",
      "C:\\Users\\Linds\\anaconda3\\lib\\site-packages\\sklearn\\svm\\_base.py:1206: ConvergenceWarning: Liblinear failed to converge, increase the number of iterations.\n",
      "  warnings.warn(\n",
      "C:\\Users\\Linds\\anaconda3\\lib\\site-packages\\sklearn\\svm\\_base.py:1206: ConvergenceWarning: Liblinear failed to converge, increase the number of iterations.\n",
      "  warnings.warn(\n",
      "C:\\Users\\Linds\\anaconda3\\lib\\site-packages\\sklearn\\svm\\_base.py:1206: ConvergenceWarning: Liblinear failed to converge, increase the number of iterations.\n",
      "  warnings.warn(\n",
      "C:\\Users\\Linds\\anaconda3\\lib\\site-packages\\sklearn\\svm\\_base.py:1206: ConvergenceWarning: Liblinear failed to converge, increase the number of iterations.\n",
      "  warnings.warn(\n",
      "C:\\Users\\Linds\\anaconda3\\lib\\site-packages\\sklearn\\svm\\_base.py:1206: ConvergenceWarning: Liblinear failed to converge, increase the number of iterations.\n",
      "  warnings.warn(\n",
      "C:\\Users\\Linds\\anaconda3\\lib\\site-packages\\sklearn\\svm\\_base.py:1206: ConvergenceWarning: Liblinear failed to converge, increase the number of iterations.\n",
      "  warnings.warn(\n",
      "C:\\Users\\Linds\\anaconda3\\lib\\site-packages\\sklearn\\svm\\_base.py:1206: ConvergenceWarning: Liblinear failed to converge, increase the number of iterations.\n",
      "  warnings.warn(\n",
      "C:\\Users\\Linds\\anaconda3\\lib\\site-packages\\sklearn\\svm\\_base.py:1206: ConvergenceWarning: Liblinear failed to converge, increase the number of iterations.\n",
      "  warnings.warn(\n",
      "C:\\Users\\Linds\\anaconda3\\lib\\site-packages\\sklearn\\svm\\_base.py:1206: ConvergenceWarning: Liblinear failed to converge, increase the number of iterations.\n",
      "  warnings.warn(\n",
      "C:\\Users\\Linds\\anaconda3\\lib\\site-packages\\sklearn\\svm\\_base.py:1206: ConvergenceWarning: Liblinear failed to converge, increase the number of iterations.\n",
      "  warnings.warn(\n",
      "C:\\Users\\Linds\\anaconda3\\lib\\site-packages\\sklearn\\svm\\_base.py:1206: ConvergenceWarning: Liblinear failed to converge, increase the number of iterations.\n",
      "  warnings.warn(\n",
      "C:\\Users\\Linds\\anaconda3\\lib\\site-packages\\sklearn\\svm\\_base.py:1206: ConvergenceWarning: Liblinear failed to converge, increase the number of iterations.\n",
      "  warnings.warn(\n",
      "C:\\Users\\Linds\\anaconda3\\lib\\site-packages\\sklearn\\svm\\_base.py:1206: ConvergenceWarning: Liblinear failed to converge, increase the number of iterations.\n",
      "  warnings.warn(\n",
      "C:\\Users\\Linds\\anaconda3\\lib\\site-packages\\sklearn\\svm\\_base.py:1206: ConvergenceWarning: Liblinear failed to converge, increase the number of iterations.\n",
      "  warnings.warn(\n",
      "C:\\Users\\Linds\\anaconda3\\lib\\site-packages\\sklearn\\svm\\_base.py:1206: ConvergenceWarning: Liblinear failed to converge, increase the number of iterations.\n",
      "  warnings.warn(\n",
      "C:\\Users\\Linds\\anaconda3\\lib\\site-packages\\sklearn\\svm\\_base.py:1206: ConvergenceWarning: Liblinear failed to converge, increase the number of iterations.\n",
      "  warnings.warn(\n"
     ]
    },
    {
     "data": {
      "image/png": "[encoded data removed]",
      "text/plain": [
       "<Figure size 432x288 with 1 Axes>"
      ]
     },
     "metadata": {
      "needs_background": "light"
     },
     "output_type": "display_data"
    },
    {
     "name": "stdout",
     "output_type": "stream",
     "text": [
      "Choice of C:  1e-05\n",
      "Cross-validation error estimate:  0.008334027835652971\n",
      "Test error:  0.0077\n"
     ]
    },
    {
     "name": "stderr",
     "output_type": "stream",
     "text": [
      "C:\\Users\\Linds\\anaconda3\\lib\\site-packages\\sklearn\\svm\\_base.py:1206: ConvergenceWarning: Liblinear failed to converge, increase the number of iterations.\n",
      "  warnings.warn(\n"
     ]
    }
   ],
   "source": [
    "c, err = choose_parameter(train_data, train_labels, 5)\n",
    "print(\"Choice of C: \", c)\n",
    "print(\"Cross-validation error estimate: \", err)\n",
    "## Train it and test it\n",
    "clf = LinearSVC(C=c, loss='hinge')\n",
    "clf.fit(train_data, train_labels)\n",
    "\n",
    "preds = clf.predict(test_data)\n",
    "error = float(np.sum((preds > 0.0) != (test_labels > 0.0)))/len(test_labels)\n",
    "\n",
    "print(\"Test error: \", error)"
   ]
  },
  {
   "cell_type": "markdown",
   "id": "92788cf5",
   "metadata": {},
   "source": [
    "### (c) Test error and linear separability"
   ]
  },
  {
   "cell_type": "code",
   "execution_count": 38,
   "id": "0e6557e9",
   "metadata": {},
   "outputs": [
    {
     "name": "stdout",
     "output_type": "stream",
     "text": [
      "Test Error:  0.0072\n",
      "Training Error:  0.006266666666666667\n",
      "Optimal C:  1e-05\n"
     ]
    },
    {
     "name": "stderr",
     "output_type": "stream",
     "text": [
      "C:\\Users\\Linds\\anaconda3\\lib\\site-packages\\sklearn\\svm\\_base.py:1206: ConvergenceWarning: Liblinear failed to converge, increase the number of iterations.\n",
      "  warnings.warn(\n"
     ]
    }
   ],
   "source": [
    "# train model at optimal c over 60,000 possible iterations to determine if it converges (training error = 0)\n",
    "clf = LinearSVC(loss='hinge', C=5e-5, max_iter=60000)\n",
    "clf.fit(train_data, train_labels)\n",
    "\n",
    "y_pred = clf.predict(test_data)\n",
    "accuracy = accuracy_score(test_labels, y_pred)\n",
    "\n",
    "test_error = float(np.sum((y_pred > 0.0) != (test_labels > 0.0)))/len(test_labels)\n",
    "\n",
    "train_pred = clf.predict(train_data)\n",
    "train_error = float(np.sum((train_pred > 0.0) != (train_labels > 0.0)))/len(train_labels)\n",
    "\n",
    "print(\"Test Error: \", test_error)\n",
    "print(\"Training Error: \", train_error)\n",
    "print(\"Optimal C: \", c)"
   ]
  },
  {
   "cell_type": "markdown",
   "id": "04e9a209",
   "metadata": {},
   "source": [
    "#### For a dataset to be linearly separable, the value of C (ie slack) should be very large and the training error should be zero. In the case of the MNIST data set, the value of C is very close to zero (0.00001) and while the training error is close to zero, it is ultimately  > 0. (Additionally, the model does not appear to converge after 60,000 iterations).\n",
    "\n",
    "#### Therefore, the data is not linearly separable."
   ]
  },
  {
   "cell_type": "code",
   "execution_count": 29,
   "id": "4a874d05",
   "metadata": {},
   "outputs": [
    {
     "data": {
      "text/plain": [
       "Text(29.0, 0.5, 'Actual')"
      ]
     },
     "execution_count": 29,
     "metadata": {},
     "output_type": "execute_result"
    },
    {
     "data": {
      "image/png": "[encoded data removed]",
      "text/plain": [
       "<Figure size 432x288 with 2 Axes>"
      ]
     },
     "metadata": {
      "needs_background": "light"
     },
     "output_type": "display_data"
    },
    {
     "data": {
      "text/plain": [
       "<Figure size 576x360 with 0 Axes>"
      ]
     },
     "metadata": {},
     "output_type": "display_data"
    }
   ],
   "source": [
    "from sklearn.metrics import confusion_matrix\n",
    "import seaborn as sns\n",
    "\n",
    "confmat_est = confusion_matrix(test_labels, preds)\n",
    "ax= plt.subplot()\n",
    "plt.figure(figsize = (8,5))\n",
    "sns.heatmap(confmat_est, annot=True, fmt='', cmap='Blues', ax=ax)\n",
    "ax.set_title('SVM classification - misclassifications')\n",
    "ax.set_xlabel('Predicted')\n",
    "ax.set_ylabel('Actual')"
   ]
  },
  {
   "cell_type": "markdown",
   "id": "138befe8",
   "metadata": {},
   "source": [
    "# (3) Kernel Perceptron"
   ]
  },
  {
   "cell_type": "code",
   "execution_count": 48,
   "id": "f7310592",
   "metadata": {},
   "outputs": [],
   "source": [
    "from sklearn.metrics.pairwise import polynomial_kernel\n",
    "from sklearn.linear_model import Perceptron"
   ]
  },
  {
   "cell_type": "code",
   "execution_count": 84,
   "id": "7114f466",
   "metadata": {},
   "outputs": [],
   "source": [
    "data = np.loadtxt('data1.txt').astype(int)\n",
    "n, d = data.shape\n",
    "# Create training set x and labels y\n",
    "x_data1 = data[:, 0:d-1]\n",
    "y_data1 = data[:, d-1]"
   ]
  },
  {
   "cell_type": "code",
   "execution_count": 83,
   "id": "48629bb0",
   "metadata": {},
   "outputs": [],
   "source": [
    "data2 = np.loadtxt('data2.txt').astype(int)\n",
    "n, d = data2.shape\n",
    "# Create training set x and labels y\n",
    "x_data2 = data2[:, 0:d-1]\n",
    "y_data2 = data2[:, d-1]"
   ]
  },
  {
   "cell_type": "markdown",
   "id": "f9baae5d",
   "metadata": {},
   "source": [
    "# (4) Multiclass kernel SVM"
   ]
  },
  {
   "cell_type": "markdown",
   "id": "e53d7693",
   "metadata": {},
   "source": [
    "### (a) Load in the MNIST data"
   ]
  },
  {
   "cell_type": "code",
   "execution_count": 2,
   "id": "cd676e24",
   "metadata": {},
   "outputs": [],
   "source": [
    "%matplotlib inline\n",
    "import matplotlib.pyplot as plt \n",
    "import gzip, os\n",
    "import numpy as np\n",
    "from scipy.stats import multivariate_normal\n",
    "import sys\n",
    "import pandas as pd\n",
    "\n",
    "if sys.version_info[0] == 2:\n",
    "    from urllib import urlretrieve\n",
    "else:\n",
    "    from urllib.request import urlretrieve\n",
    "    \n",
    "from sklearn.svm import SVC\n",
    "from sklearn.svm import LinearSVC\n",
    "from sklearn.metrics import accuracy_score\n",
    "from sklearn.model_selection import cross_val_score\n",
    "\n",
    "# Function that downloads a specified MNIST data file from Yann Le Cun's website\n",
    "def download(filename, source='http://yann.lecun.com/exdb/mnist/'):\n",
    "    print(\"Downloading %s\" % filename)\n",
    "    urlretrieve(source + filename, filename)\n",
    "\n",
    "# Invokes download() if necessary, then reads in images\n",
    "def load_mnist_images(filename):\n",
    "    if not os.path.exists(filename):\n",
    "        download(filename)\n",
    "    with gzip.open(filename, 'rb') as f:\n",
    "        data = np.frombuffer(f.read(), np.uint8, offset=16)\n",
    "    data = data.reshape(-1,784)\n",
    "    return data\n",
    "\n",
    "def load_mnist_labels(filename):\n",
    "    if not os.path.exists(filename):\n",
    "        download(filename)\n",
    "    with gzip.open(filename, 'rb') as f:\n",
    "        data = np.frombuffer(f.read(), np.uint8, offset=8)\n",
    "    return data\n",
    "## Load the training set\n",
    "train_data = load_mnist_images('train-images-idx3-ubyte.gz')\n",
    "train_labels = load_mnist_labels('train-labels-idx1-ubyte.gz')\n",
    "\n",
    "## Load the testing set\n",
    "test_data = load_mnist_images('t10k-images-idx3-ubyte.gz')\n",
    "test_labels = load_mnist_labels('t10k-labels-idx1-ubyte.gz')"
   ]
  },
  {
   "cell_type": "markdown",
   "id": "b65325d2",
   "metadata": {},
   "source": [
    "### (b) SVM classifier"
   ]
  },
  {
   "cell_type": "code",
   "execution_count": 3,
   "id": "074132c2",
   "metadata": {},
   "outputs": [],
   "source": [
    "def fit_classifier(C_value=1.0):\n",
    "    clf = LinearSVC(loss='hinge', C=C_value, max_iter=100)\n",
    "    clf.fit(train_data, train_labels)\n",
    "    \n",
    "    train_pred = clf.predict(train_data)\n",
    "    train_error = float(np.sum((train_pred > 0.0) != (train_labels > 0.0)))/len(train_labels)\n",
    "    \n",
    "    test_pred = clf.predict(test_data)\n",
    "    test_error = float(np.sum((test_pred > 0.0) != (test_labels > 0.0)))/len(test_labels)\n",
    "    \n",
    "    return train_error, test_error"
   ]
  },
  {
   "cell_type": "code",
   "execution_count": 4,
   "id": "ca8dbac1",
   "metadata": {},
   "outputs": [
    {
     "name": "stderr",
     "output_type": "stream",
     "text": [
      "C:\\Users\\Linds\\anaconda3\\lib\\site-packages\\sklearn\\svm\\_base.py:1206: ConvergenceWarning: Liblinear failed to converge, increase the number of iterations.\n",
      "  warnings.warn(\n",
      "C:\\Users\\Linds\\anaconda3\\lib\\site-packages\\sklearn\\svm\\_base.py:1206: ConvergenceWarning: Liblinear failed to converge, increase the number of iterations.\n",
      "  warnings.warn(\n",
      "C:\\Users\\Linds\\anaconda3\\lib\\site-packages\\sklearn\\svm\\_base.py:1206: ConvergenceWarning: Liblinear failed to converge, increase the number of iterations.\n",
      "  warnings.warn(\n",
      "C:\\Users\\Linds\\anaconda3\\lib\\site-packages\\sklearn\\svm\\_base.py:1206: ConvergenceWarning: Liblinear failed to converge, increase the number of iterations.\n",
      "  warnings.warn(\n",
      "C:\\Users\\Linds\\anaconda3\\lib\\site-packages\\sklearn\\svm\\_base.py:1206: ConvergenceWarning: Liblinear failed to converge, increase the number of iterations.\n",
      "  warnings.warn(\n"
     ]
    }
   ],
   "source": [
    "C_values = [0.01, 0.1, 1.0, 10.0, 100.0]\n",
    "train_errors = []\n",
    "test_errors = []\n",
    "\n",
    "for c in C_values:\n",
    "    train_error, test_error = fit_classifier(c)\n",
    "    train_errors.append(train_error)\n",
    "    test_errors.append(test_error)"
   ]
  },
  {
   "cell_type": "code",
   "execution_count": 5,
   "id": "cdf19cd3",
   "metadata": {},
   "outputs": [
    {
     "data": {
      "text/html": [
       "<div>\n",
       "<style scoped>\n",
       "    .dataframe tbody tr th:only-of-type {\n",
       "        vertical-align: middle;\n",
       "    }\n",
       "\n",
       "    .dataframe tbody tr th {\n",
       "        vertical-align: top;\n",
       "    }\n",
       "\n",
       "    .dataframe thead th {\n",
       "        text-align: right;\n",
       "    }\n",
       "</style>\n",
       "<table border=\"1\" class=\"dataframe\">\n",
       "  <thead>\n",
       "    <tr style=\"text-align: right;\">\n",
       "      <th></th>\n",
       "      <th>Training Error</th>\n",
       "      <th>Test Error</th>\n",
       "    </tr>\n",
       "    <tr>\n",
       "      <th>C</th>\n",
       "      <th></th>\n",
       "      <th></th>\n",
       "    </tr>\n",
       "  </thead>\n",
       "  <tbody>\n",
       "    <tr>\n",
       "      <th>0.01</th>\n",
       "      <td>0.010450</td>\n",
       "      <td>0.0128</td>\n",
       "    </tr>\n",
       "    <tr>\n",
       "      <th>0.10</th>\n",
       "      <td>0.011083</td>\n",
       "      <td>0.0106</td>\n",
       "    </tr>\n",
       "    <tr>\n",
       "      <th>1.00</th>\n",
       "      <td>0.011183</td>\n",
       "      <td>0.0129</td>\n",
       "    </tr>\n",
       "    <tr>\n",
       "      <th>10.00</th>\n",
       "      <td>0.008233</td>\n",
       "      <td>0.0092</td>\n",
       "    </tr>\n",
       "    <tr>\n",
       "      <th>100.00</th>\n",
       "      <td>0.011700</td>\n",
       "      <td>0.0132</td>\n",
       "    </tr>\n",
       "  </tbody>\n",
       "</table>\n",
       "</div>"
      ],
      "text/plain": [
       "        Training Error  Test Error\n",
       "C                                 \n",
       "0.01          0.010450      0.0128\n",
       "0.10          0.011083      0.0106\n",
       "1.00          0.011183      0.0129\n",
       "10.00         0.008233      0.0092\n",
       "100.00        0.011700      0.0132"
      ]
     },
     "execution_count": 5,
     "metadata": {},
     "output_type": "execute_result"
    }
   ],
   "source": [
    "d = {'C':C_values,'Training Error':train_errors, 'Test Error':test_errors}\n",
    "df = pd.DataFrame(data=d).set_index('C')\n",
    "df"
   ]
  },
  {
   "cell_type": "markdown",
   "id": "ddfd7604",
   "metadata": {},
   "source": [
    "#### No, the data does not appear to be linearly separable. Training error does not equal zero."
   ]
  },
  {
   "cell_type": "markdown",
   "id": "740e69c9",
   "metadata": {},
   "source": [
    "### (c) quadratic kernel SVM"
   ]
  },
  {
   "cell_type": "code",
   "execution_count": 19,
   "id": "7f16262e",
   "metadata": {},
   "outputs": [],
   "source": [
    "def quadratic_fit_classifier(C_value=1.0):\n",
    "    clf = SVC(kernel='poly', degree=2, C=C_value, max_iter=1000)\n",
    "    clf.fit(train_data, train_labels)\n",
    "    \n",
    "    train_pred = clf.predict(train_data)\n",
    "    train_error = float(np.sum((train_pred > 0.0) != (train_labels > 0.0)))/len(train_labels)\n",
    "    \n",
    "    test_pred = clf.predict(test_data)\n",
    "    test_error = float(np.sum((test_pred > 0.0) != (test_labels > 0.0)))/len(test_labels)\n",
    "    \n",
    "    n_supp_vect = sum(clf.n_support_)\n",
    "    \n",
    "    return train_error, test_error, n_supp_vect"
   ]
  },
  {
   "cell_type": "code",
   "execution_count": 21,
   "id": "f6d926db",
   "metadata": {},
   "outputs": [
    {
     "name": "stderr",
     "output_type": "stream",
     "text": [
      "C:\\Users\\Linds\\anaconda3\\lib\\site-packages\\sklearn\\svm\\_base.py:284: ConvergenceWarning: Solver terminated early (max_iter=1000).  Consider pre-processing your data with StandardScaler or MinMaxScaler.\n",
      "  warnings.warn(\n"
     ]
    }
   ],
   "source": [
    "quad_train_error, quad_test_error, n_supp_vect = quadratic_fit_classifier()"
   ]
  },
  {
   "cell_type": "code",
   "execution_count": 22,
   "id": "a84c6cd0",
   "metadata": {},
   "outputs": [
    {
     "data": {
      "text/plain": [
       "{'Training Error': 0.0012,\n",
       " 'Test Error': 0.0029,\n",
       " 'Number of Support Vectors': 10015}"
      ]
     },
     "execution_count": 22,
     "metadata": {},
     "output_type": "execute_result"
    }
   ],
   "source": [
    "d = {'Training Error':quad_train_error, 'Test Error':quad_test_error, 'Number of Support Vectors':n_supp_vect}\n",
    "d"
   ]
  },
  {
   "cell_type": "code",
   "execution_count": null,
   "id": "77e303f3",
   "metadata": {},
   "outputs": [],
   "source": []
  },
  {
   "cell_type": "code",
   "execution_count": null,
   "id": "e83bb1ef",
   "metadata": {},
   "outputs": [],
   "source": []
  },
  {
   "cell_type": "code",
   "execution_count": null,
   "id": "604de501",
   "metadata": {},
   "outputs": [],
   "source": []
  }
 ],
 "metadata": {
  "kernelspec": {
   "display_name": "Python 3 (ipykernel)",
   "language": "python",
   "name": "python3"
  },
  "language_info": {
   "codemirror_mode": {
    "name": "ipython",
    "version": 3
   },
   "file_extension": ".py",
   "mimetype": "text/x-python",
   "name": "python",
   "nbconvert_exporter": "python",
   "pygments_lexer": "ipython3",
   "version": "3.9.12"
  }
 },
 "nbformat": 4,
 "nbformat_minor": 5
}
